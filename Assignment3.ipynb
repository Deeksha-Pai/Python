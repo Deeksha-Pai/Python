{
  "nbformat": 4,
  "nbformat_minor": 0,
  "metadata": {
    "colab": {
      "name": "Assignment3.ipynb",
      "provenance": [],
      "collapsed_sections": []
    },
    "kernelspec": {
      "name": "python3",
      "display_name": "Python 3"
    }
  },
  "cells": [
    {
      "cell_type": "markdown",
      "metadata": {
        "id": "kH52BHOtF-KU",
        "colab_type": "text"
      },
      "source": [
        "Sum of 'n' numbers with the help of while loop\n"
      ]
    },
    {
      "cell_type": "code",
      "metadata": {
        "id": "tRoybXS4FBph",
        "colab_type": "code",
        "colab": {
          "base_uri": "https://localhost:8080/",
          "height": 51
        },
        "outputId": "6978d149-be53-4b7a-8bd3-22621f32265c"
      },
      "source": [
        "num = int(input(\"Enter the value of n: \"))\n",
        "hold = num\n",
        "sum = 0\n",
        "if num <= 0: \n",
        "   print(\"Enter a positive number\") \n",
        "else: \n",
        "   while num > 0:\n",
        "        sum = sum + num\n",
        "        num = num - 1\n",
        "print(\"Sum of first\", hold, \"natural numbers is: \", sum)"
      ],
      "execution_count": 23,
      "outputs": [
        {
          "output_type": "stream",
          "text": [
            "Enter the value of n: 2\n",
            "Sum of first 2 natural numbers is:  3\n"
          ],
          "name": "stdout"
        }
      ]
    },
    {
      "cell_type": "markdown",
      "metadata": {
        "id": "dnqrKrH3JAU_",
        "colab_type": "text"
      },
      "source": [
        "Take an integer and find whether the number is prime or not"
      ]
    },
    {
      "cell_type": "code",
      "metadata": {
        "id": "GFsmw5-OJE3b",
        "colab_type": "code",
        "colab": {
          "base_uri": "https://localhost:8080/",
          "height": 68
        },
        "outputId": "2489c79c-f9c0-413e-d974-2de146795ac0"
      },
      "source": [
        "num = int(input(\"Enter a number:\"))\n",
        "if num > 1:\n",
        "   for i in range(2,num):\n",
        "       if (num % i) == 0:\n",
        "           print(num,\"is not a prime number\")\n",
        "           print(i,\"times\",num//i,\"is\",num)\n",
        "           break\n",
        "   else:\n",
        "       print(num,\"is a prime number\")\n",
        "    \n",
        "else:\n",
        "   print(num,\"is not a prime number\")"
      ],
      "execution_count": 17,
      "outputs": [
        {
          "output_type": "stream",
          "text": [
            "Enter a number:34\n",
            "34 is not a prime number\n",
            "2 times 17 is 34\n"
          ],
          "name": "stdout"
        }
      ]
    }
  ]
}