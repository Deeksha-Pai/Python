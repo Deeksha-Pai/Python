{
  "nbformat": 4,
  "nbformat_minor": 0,
  "metadata": {
    "colab": {
      "name": "Assignment7.ipynb",
      "provenance": []
    },
    "kernelspec": {
      "name": "python3",
      "display_name": "Python 3"
    }
  },
  "cells": [
    {
      "cell_type": "markdown",
      "metadata": {
        "id": "FPrKCuNrA4gB",
        "colab_type": "text"
      },
      "source": [
        "Use the dictionary port1 and make a new dictionary in which keys become values and values become keys"
      ]
    },
    {
      "cell_type": "code",
      "metadata": {
        "id": "70sk0j01A0Jb",
        "colab_type": "code",
        "colab": {
          "base_uri": "https://localhost:8080/",
          "height": 34
        },
        "outputId": "c9208e74-2468-4211-8d5c-efd59b5e15a9"
      },
      "source": [
        "\n",
        "port1={21:\"FTP\",22:\"SSH\",23:\"telnet\",80:\"http\"}\n",
        "port2=dict([(value,key)for key,value in port1.items()])\n",
        "print(port2)"
      ],
      "execution_count": 5,
      "outputs": [
        {
          "output_type": "stream",
          "text": [
            "{'FTP': 21, 'SSH': 22, 'telnet': 23, 'http': 80}\n"
          ],
          "name": "stdout"
        }
      ]
    },
    {
      "cell_type": "markdown",
      "metadata": {
        "id": "gPW0e_vkDsqi",
        "colab_type": "text"
      },
      "source": [
        "Take a list of tuple and make a new list which contains the sum of the number of tuples"
      ]
    },
    {
      "cell_type": "code",
      "metadata": {
        "id": "kFiXLESwCrZZ",
        "colab_type": "code",
        "colab": {
          "base_uri": "https://localhost:8080/",
          "height": 34
        },
        "outputId": "7b06f9bf-51ac-4fa8-8f37-6b378fa2c8e4"
      },
      "source": [
        "list1=[(1,2),(3,4),(5,6),(4,2)]\n",
        "list2=[]\n",
        "for each in range(0,len(list1)):\n",
        "    a,b=list1[each]\n",
        "    list2.append(a+b)\n",
        "print(list2)\n"
      ],
      "execution_count": 9,
      "outputs": [
        {
          "output_type": "stream",
          "text": [
            "[3, 7, 11, 6]\n"
          ],
          "name": "stdout"
        }
      ]
    },
    {
      "cell_type": "markdown",
      "metadata": {
        "id": "FcLvh33JGFyC",
        "colab_type": "text"
      },
      "source": [
        "Combine several lists to make a single list"
      ]
    },
    {
      "cell_type": "code",
      "metadata": {
        "id": "mZ-C0aiLEc7k",
        "colab_type": "code",
        "colab": {
          "base_uri": "https://localhost:8080/",
          "height": 34
        },
        "outputId": "6fc3a183-aaab-4ed9-da3e-4c13fc3ecaf8"
      },
      "source": [
        "list1=[(1,2,3),[1,2],['a','hit','less']]\n",
        "list2=[]\n",
        "list2=[i for each in list1 for i in each]\n",
        "print (list2)"
      ],
      "execution_count": 10,
      "outputs": [
        {
          "output_type": "stream",
          "text": [
            "[1, 2, 3, 1, 2, 'a', 'hit', 'less']\n"
          ],
          "name": "stdout"
        }
      ]
    }
  ]
}