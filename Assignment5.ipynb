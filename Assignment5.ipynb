{
  "nbformat": 4,
  "nbformat_minor": 0,
  "metadata": {
    "colab": {
      "name": "Assignment5.ipynb",
      "provenance": []
    },
    "kernelspec": {
      "name": "python3",
      "display_name": "Python 3"
    }
  },
  "cells": [
    {
      "cell_type": "markdown",
      "metadata": {
        "id": "ogIcLV-4sIck",
        "colab_type": "text"
      },
      "source": [
        "Sort the list in ascending order with all zeros to the right hand side\n"
      ]
    },
    {
      "cell_type": "code",
      "metadata": {
        "id": "14PAQFYUrmCe",
        "colab_type": "code",
        "colab": {
          "base_uri": "https://localhost:8080/",
          "height": 51
        },
        "outputId": "023519e4-9c8b-4948-b3f5-bbe38d3c4c6d"
      },
      "source": [
        "list1=[0,1,2,10,4,1,0,56,2,0,1,3,0,56,0,4]\n",
        "list1.sort()\n",
        "print(list1)\n",
        "list1.sort(reverse=1)\n",
        "print(list1)"
      ],
      "execution_count": 6,
      "outputs": [
        {
          "output_type": "stream",
          "text": [
            "[0, 0, 0, 0, 0, 1, 1, 1, 2, 2, 3, 4, 4, 10, 56, 56]\n",
            "[56, 56, 10, 4, 4, 3, 2, 2, 1, 1, 1, 0, 0, 0, 0, 0]\n"
          ],
          "name": "stdout"
        }
      ]
    },
    {
      "cell_type": "markdown",
      "metadata": {
        "id": "qXcf62pqtyRw",
        "colab_type": "text"
      },
      "source": [
        "Merge lists"
      ]
    },
    {
      "cell_type": "code",
      "metadata": {
        "id": "V-U-oQU6tCQT",
        "colab_type": "code",
        "colab": {
          "base_uri": "https://localhost:8080/",
          "height": 34
        },
        "outputId": "377901ad-39bd-4a77-b7a9-44a339643503"
      },
      "source": [
        "list1 = [10,20,40,60,70,80] \n",
        "list2 = [5,15,25,35,45,60] \n",
        "list3 = []\n",
        "size1 = len(list1)\n",
        "size2 = len(list2)\n",
        "i=0;j=0\n",
        "while(i < size1 and j < size2): \n",
        "    if list1[i] < list2[j]: \n",
        "      list3.append(list1[i]) \n",
        "      i += 1\n",
        "    else: \n",
        "      list3.append(list2[j]) \n",
        "      j += 1\n",
        "list3 = list3 + list1[i:] + list2[j:] \n",
        "print(list3)"
      ],
      "execution_count": 17,
      "outputs": [
        {
          "output_type": "stream",
          "text": [
            "[5, 10, 15, 20, 25, 35, 40, 45, 60, 60, 70, 80]\n"
          ],
          "name": "stdout"
        }
      ]
    },
    {
      "cell_type": "code",
      "metadata": {
        "id": "EIv0MKJIu7Ro",
        "colab_type": "code",
        "colab": {}
      },
      "source": [
        ""
      ],
      "execution_count": null,
      "outputs": []
    }
  ]
}