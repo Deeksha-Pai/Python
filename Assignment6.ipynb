{
  "nbformat": 4,
  "nbformat_minor": 0,
  "metadata": {
    "colab": {
      "name": "Assignment6.ipynb",
      "provenance": []
    },
    "kernelspec": {
      "name": "python3",
      "display_name": "Python 3"
    }
  },
  "cells": [
    {
      "cell_type": "markdown",
      "metadata": {
        "id": "G6gnvsZP-gLw",
        "colab_type": "text"
      },
      "source": [
        "Convert to a dictionary in one line code using list comprehension(without using zip method)"
      ]
    },
    {
      "cell_type": "code",
      "metadata": {
        "id": "oBJAO-vj-dB6",
        "colab_type": "code",
        "colab": {
          "base_uri": "https://localhost:8080/",
          "height": 34
        },
        "outputId": "dfefd401-d360-4925-b404-6f5511a4e96c"
      },
      "source": [
        "list1=[1,2,3,4,5,7,8]\n",
        "list2=[\"a\",\"b\",\"c\",\"d\",\"e\"]\n",
        "for each in list1:list2.append((each))\n",
        "print(list2)"
      ],
      "execution_count": 2,
      "outputs": [
        {
          "output_type": "stream",
          "text": [
            "['a', 'b', 'c', 'd', 'e', 1, 2, 3, 4, 5, 7, 8]\n"
          ],
          "name": "stdout"
        }
      ]
    }
  ]
}